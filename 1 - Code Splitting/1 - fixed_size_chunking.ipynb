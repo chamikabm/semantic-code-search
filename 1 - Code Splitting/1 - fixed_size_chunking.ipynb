{
 "cells": [
  {
   "cell_type": "markdown",
   "metadata": {},
   "source": [
    "# Method 1: Fixed-Size Chunking\n",
    "\n",
    "This notebook demonstrates the most basic chunking strategy: **Fixed-Size Chunking**.\n",
    "\n",
    "## Concept\n",
    "The code is split into chunks of a fixed number of characters or tokens. An optional overlap can be defined to slide across the text, which helps preserve some context that would otherwise be lost at the boundaries.\n",
    "\n",
    "### Pros:\n",
    "- **Simple to Implement:** Requires no understanding of the code's structure.\n",
    "- **Language Agnostic:** Works on any programming language without special parsers.\n",
    "\n",
    "### Cons:\n",
    "- **Arbitrary Boundaries:** Almost always breaks code in syntactically and semantically meaningless places, which can lead to low-quality embeddings."
   ]
  },
  {
   "cell_type": "code",
   "execution_count": 1,
   "metadata": {},
   "outputs": [
    {
     "name": "stdout",
     "output_type": "stream",
     "text": [
      "Setup complete.\n"
     ]
    }
   ],
   "source": [
    "# No special libraries needed for this basic method\n",
    "print(\"Setup complete.\")"
   ]
  },
  {
   "cell_type": "markdown",
   "metadata": {},
   "source": [
    "## Sample Code for Demonstration\n",
    "We will use the following block of Python code as the input."
   ]
  },
  {
   "cell_type": "code",
   "execution_count": 2,
   "metadata": {},
   "outputs": [],
   "source": [
    "sample_code = \"\"\"\n",
    "# Utility functions for string manipulation\n",
    "\n",
    "def say_hello(name: str):\n",
    "    \\\"\\\"\\\"A simple function to greet someone.\\\"\\\"\\\"\n",
    "    print(f\"Hello, {name}!\")\n",
    "\n",
    "def say_goodbye(name: str):\n",
    "    \\\"\\\"\\\"A simple function to say goodbye.\\\"\\\"\\\"\n",
    "    print(f\"Goodbye, {name}!\")\n",
    "\n",
    "class StringHelper:\n",
    "    \\\"\\\"\\\"A class with advanced string operations.\\\"\\\"\\\"\n",
    "    def __init__(self, text: str):\n",
    "        self.text = text\n",
    "\n",
    "    def reverse(self) -> str:\n",
    "        # Reverse the text using slicing\n",
    "        return self.text[::-1]\n",
    "\n",
    "    def count_vowels(self) -> int:\n",
    "        vowels = \"aeiouAEIOU\"\n",
    "        return sum(1 for char in self.text if char in vowels)\n",
    "\n",
    "# Standalone script execution\n",
    "if __name__ == \"__main__\":\n",
    "    helper = StringHelper(\"hello world\")\n",
    "    reversed_text = helper.reverse()\n",
    "    vowel_count = helper.count_vowels()\n",
    "\n",
    "    say_hello(\"Alice\")\n",
    "    print(f\"Original: 'hello world', Reversed: '{reversed_text}', Vowels: {vowel_count}\")\n",
    "    say_goodbye(\"Alice\")\n",
    "\"\"\""
   ]
  },
  {
   "cell_type": "markdown",
   "metadata": {},
   "source": [
    "## Implementation"
   ]
  },
  {
   "cell_type": "code",
   "execution_count": 3,
   "metadata": {},
   "outputs": [
    {
     "name": "stdout",
     "output_type": "stream",
     "text": [
      "--- Method 1: Fixed-Size Chunking ---\n",
      "--- Chunk 1 ---\n",
      "\n",
      "# Utility functions for string manipulation\n",
      "\n",
      "def say_hello(name: str):\n",
      "    \"\"\"A simple function to greet someone.\"\"\"\n",
      "    print(f\"Hello, {name}!\")\n",
      "\n",
      "def say_goodbye(name: str):\n",
      "    \"\"\"A simple function\n",
      "--- Chunk 2 ---\n",
      "str):\n",
      "    \"\"\"A simple function to say goodbye.\"\"\"\n",
      "    print(f\"Goodbye, {name}!\")\n",
      "\n",
      "class StringHelper:\n",
      "    \"\"\"A class with advanced string operations.\"\"\"\n",
      "    def __init__(self, text: str):\n",
      "        self\n",
      "--- Chunk 3 ---\n",
      "self, text: str):\n",
      "        self.text = text\n",
      "\n",
      "    def reverse(self) -> str:\n",
      "        # Reverse the text using slicing\n",
      "        return self.text[::-1]\n",
      "\n",
      "    def count_vowels(self) -> int:\n",
      "        vowels = \"\n",
      "--- Chunk 4 ---\n",
      "lf) -> int:\n",
      "        vowels = \"aeiouAEIOU\"\n",
      "        return sum(1 for char in self.text if char in vowels)\n",
      "\n",
      "# Standalone script execution\n",
      "if __name__ == \"__main__\":\n",
      "    helper = StringHelper(\"hello world\n",
      "--- Chunk 5 ---\n",
      "er = StringHelper(\"hello world\")\n",
      "    reversed_text = helper.reverse()\n",
      "    vowel_count = helper.count_vowels()\n",
      "\n",
      "    say_hello(\"Alice\")\n",
      "    print(f\"Original: 'hello world', Reversed: '{reversed_text}', \n",
      "--- Chunk 6 ---\n",
      " Reversed: '{reversed_text}', Vowels: {vowel_count}\")\n",
      "    say_goodbye(\"Alice\")\n",
      "\n"
     ]
    }
   ],
   "source": [
    "def chunk_fixed_size(code: str, chunk_size: int, overlap: int):\n",
    "    \"\"\"Chunks code into fixed-size chunks with overlap.\"\"\"\n",
    "    chunks = []\n",
    "    for i in range(0, len(code), chunk_size - overlap):\n",
    "        chunk = code[i:i + chunk_size]\n",
    "        chunks.append(chunk)\n",
    "    return chunks\n",
    "\n",
    "print(\"--- Method 1: Fixed-Size Chunking ---\")\n",
    "fixed_size_chunks = chunk_fixed_size(sample_code, chunk_size=200, overlap=30)\n",
    "\n",
    "for i, chunk in enumerate(fixed_size_chunks):\n",
    "    print(f\"--- Chunk {i+1} ---\")\n",
    "    print(chunk)"
   ]
  }
 ],
 "metadata": {
  "kernelspec": {
   "display_name": "semantic-code-search",
   "language": "python",
   "name": "python3"
  },
  "language_info": {
   "codemirror_mode": {
    "name": "ipython",
    "version": 3
   },
   "file_extension": ".py",
   "mimetype": "text/x-python",
   "name": "python",
   "nbconvert_exporter": "python",
   "pygments_lexer": "ipython3",
   "version": "3.12.11"
  }
 },
 "nbformat": 4,
 "nbformat_minor": 2
}
